{
    "cells": [
        {
            "cell_type": "markdown",
            "metadata": {},
            "source": [
                "# Explore here"
            ]
        },
        {
            "cell_type": "markdown",
            "metadata": {},
            "source": [
                "# Campaña de Marketing Bancario\n"
            ]
        },
        {
            "cell_type": "code",
            "execution_count": null,
            "metadata": {},
            "outputs": [],
            "source": []
        },
        {
            "cell_type": "code",
            "execution_count": 13,
            "metadata": {},
            "outputs": [],
            "source": [
                "# Librería para la declaración y uso de Data Frames:\n",
                "import pandas as pd\n",
                "\n",
                "# Librería para realizar operaciones matemáticas: \n",
                "import numpy as np\n",
                "\n",
                "# Librería para visualizar datos estadísticos: \n",
                "import seaborn as sns\n",
                "\n",
                "# Librería para trazar gráficos:\n",
                "import matplotlib.pyplot as plt\n",
                "\n",
                "# Librería para el escalado de varibles, asegurando mismo rango (0 a 1):\n",
                "from sklearn.preprocessing import MinMaxScaler\n",
                "\n",
                "# Librería codificar variables categóricas a numéricas:\n",
                "from sklearn.preprocessing import LabelEncoder\n",
                "\n",
                "# Librería para generar un modelo de Regresión Lineal: \n",
                "import statsmodels.api as sm\n",
                "\n",
                "# Librería para poder realizar la partición del conjunto de datos:\n",
                "from sklearn.model_selection import train_test_split\n",
                "\n",
                "# Librería para generar un modelo XGBoost:\n",
                "import xgboost as xgb\n",
                "\n",
                "# Librería para calcular el VIF: \n",
                "from statsmodels.stats.outliers_influence import variance_inflation_factor\n",
                "\n",
                "# Librería para instanciar un escalador normalizado:\n",
                "from sklearn.preprocessing import StandardScaler\n",
                "\n",
                "# Librería para el uso de modelos de Regresión Lineal:\n",
                "from sklearn.linear_model import LinearRegression, LassoCV, RidgeCV\n",
                "\n",
                "# Librería para utilizar métricas de evaluación de modelos de Machine Learning:\n",
                "from sklearn.metrics import *\n",
                "\n",
                "# Librerías para evitar la aparición de muchos Warnings al final del proyecto:\n",
                "import warnings\n",
                "from sklearn.exceptions import ConvergenceWarning\n",
                "\n",
                "# Ignorar las advertencias de convergencia\n",
                "warnings.filterwarnings(\"ignore\", category=ConvergenceWarning)\n",
                "\n",
                "\n"
            ]
        },
        {
            "cell_type": "markdown",
            "metadata": {},
            "source": [
                "### Paso 1.  Lectura de datos.\n",
                "\n",
                "Lo primero que haremos será leer y guardar en una variable la información para trabajar con ella.\n",
                "\n",
                "Para ello, se ha guaradado el archivo con todos los datos en la ruta:https://raw.githubusercontent.com/4GeeksAcademy/logistic-regression-project-tutorial/main/bank-marketing-campaign-data.csv y se ha cargado en un Data Frame:"
            ]
        },
        {
            "cell_type": "code",
            "execution_count": 14,
            "metadata": {},
            "outputs": [
                {
                    "data": {
                        "text/html": [
                            "<div>\n",
                            "<style scoped>\n",
                            "    .dataframe tbody tr th:only-of-type {\n",
                            "        vertical-align: middle;\n",
                            "    }\n",
                            "\n",
                            "    .dataframe tbody tr th {\n",
                            "        vertical-align: top;\n",
                            "    }\n",
                            "\n",
                            "    .dataframe thead th {\n",
                            "        text-align: right;\n",
                            "    }\n",
                            "</style>\n",
                            "<table border=\"1\" class=\"dataframe\">\n",
                            "  <thead>\n",
                            "    <tr style=\"text-align: right;\">\n",
                            "      <th></th>\n",
                            "      <th>age</th>\n",
                            "      <th>job</th>\n",
                            "      <th>marital</th>\n",
                            "      <th>education</th>\n",
                            "      <th>default</th>\n",
                            "      <th>housing</th>\n",
                            "      <th>loan</th>\n",
                            "      <th>contact</th>\n",
                            "      <th>month</th>\n",
                            "      <th>day_of_week</th>\n",
                            "      <th>duration</th>\n",
                            "      <th>campaign</th>\n",
                            "      <th>pdays</th>\n",
                            "      <th>previous</th>\n",
                            "      <th>poutcome</th>\n",
                            "      <th>emp.var.rate</th>\n",
                            "      <th>cons.price.idx</th>\n",
                            "      <th>cons.conf.idx</th>\n",
                            "      <th>euribor3m</th>\n",
                            "      <th>nr.employed</th>\n",
                            "      <th>y</th>\n",
                            "    </tr>\n",
                            "  </thead>\n",
                            "  <tbody>\n",
                            "    <tr>\n",
                            "      <th>0</th>\n",
                            "      <td>56</td>\n",
                            "      <td>housemaid</td>\n",
                            "      <td>married</td>\n",
                            "      <td>basic.4y</td>\n",
                            "      <td>no</td>\n",
                            "      <td>no</td>\n",
                            "      <td>no</td>\n",
                            "      <td>telephone</td>\n",
                            "      <td>may</td>\n",
                            "      <td>mon</td>\n",
                            "      <td>261</td>\n",
                            "      <td>1</td>\n",
                            "      <td>999</td>\n",
                            "      <td>0</td>\n",
                            "      <td>nonexistent</td>\n",
                            "      <td>1.1</td>\n",
                            "      <td>93.994</td>\n",
                            "      <td>-36.4</td>\n",
                            "      <td>4.857</td>\n",
                            "      <td>5191.0</td>\n",
                            "      <td>no</td>\n",
                            "    </tr>\n",
                            "    <tr>\n",
                            "      <th>1</th>\n",
                            "      <td>57</td>\n",
                            "      <td>services</td>\n",
                            "      <td>married</td>\n",
                            "      <td>high.school</td>\n",
                            "      <td>unknown</td>\n",
                            "      <td>no</td>\n",
                            "      <td>no</td>\n",
                            "      <td>telephone</td>\n",
                            "      <td>may</td>\n",
                            "      <td>mon</td>\n",
                            "      <td>149</td>\n",
                            "      <td>1</td>\n",
                            "      <td>999</td>\n",
                            "      <td>0</td>\n",
                            "      <td>nonexistent</td>\n",
                            "      <td>1.1</td>\n",
                            "      <td>93.994</td>\n",
                            "      <td>-36.4</td>\n",
                            "      <td>4.857</td>\n",
                            "      <td>5191.0</td>\n",
                            "      <td>no</td>\n",
                            "    </tr>\n",
                            "    <tr>\n",
                            "      <th>2</th>\n",
                            "      <td>37</td>\n",
                            "      <td>services</td>\n",
                            "      <td>married</td>\n",
                            "      <td>high.school</td>\n",
                            "      <td>no</td>\n",
                            "      <td>yes</td>\n",
                            "      <td>no</td>\n",
                            "      <td>telephone</td>\n",
                            "      <td>may</td>\n",
                            "      <td>mon</td>\n",
                            "      <td>226</td>\n",
                            "      <td>1</td>\n",
                            "      <td>999</td>\n",
                            "      <td>0</td>\n",
                            "      <td>nonexistent</td>\n",
                            "      <td>1.1</td>\n",
                            "      <td>93.994</td>\n",
                            "      <td>-36.4</td>\n",
                            "      <td>4.857</td>\n",
                            "      <td>5191.0</td>\n",
                            "      <td>no</td>\n",
                            "    </tr>\n",
                            "    <tr>\n",
                            "      <th>3</th>\n",
                            "      <td>40</td>\n",
                            "      <td>admin.</td>\n",
                            "      <td>married</td>\n",
                            "      <td>basic.6y</td>\n",
                            "      <td>no</td>\n",
                            "      <td>no</td>\n",
                            "      <td>no</td>\n",
                            "      <td>telephone</td>\n",
                            "      <td>may</td>\n",
                            "      <td>mon</td>\n",
                            "      <td>151</td>\n",
                            "      <td>1</td>\n",
                            "      <td>999</td>\n",
                            "      <td>0</td>\n",
                            "      <td>nonexistent</td>\n",
                            "      <td>1.1</td>\n",
                            "      <td>93.994</td>\n",
                            "      <td>-36.4</td>\n",
                            "      <td>4.857</td>\n",
                            "      <td>5191.0</td>\n",
                            "      <td>no</td>\n",
                            "    </tr>\n",
                            "    <tr>\n",
                            "      <th>4</th>\n",
                            "      <td>56</td>\n",
                            "      <td>services</td>\n",
                            "      <td>married</td>\n",
                            "      <td>high.school</td>\n",
                            "      <td>no</td>\n",
                            "      <td>no</td>\n",
                            "      <td>yes</td>\n",
                            "      <td>telephone</td>\n",
                            "      <td>may</td>\n",
                            "      <td>mon</td>\n",
                            "      <td>307</td>\n",
                            "      <td>1</td>\n",
                            "      <td>999</td>\n",
                            "      <td>0</td>\n",
                            "      <td>nonexistent</td>\n",
                            "      <td>1.1</td>\n",
                            "      <td>93.994</td>\n",
                            "      <td>-36.4</td>\n",
                            "      <td>4.857</td>\n",
                            "      <td>5191.0</td>\n",
                            "      <td>no</td>\n",
                            "    </tr>\n",
                            "  </tbody>\n",
                            "</table>\n",
                            "</div>"
                        ],
                        "text/plain": [
                            "   age        job  marital    education  default housing loan    contact  \\\n",
                            "0   56  housemaid  married     basic.4y       no      no   no  telephone   \n",
                            "1   57   services  married  high.school  unknown      no   no  telephone   \n",
                            "2   37   services  married  high.school       no     yes   no  telephone   \n",
                            "3   40     admin.  married     basic.6y       no      no   no  telephone   \n",
                            "4   56   services  married  high.school       no      no  yes  telephone   \n",
                            "\n",
                            "  month day_of_week  duration  campaign  pdays  previous     poutcome  \\\n",
                            "0   may         mon       261         1    999         0  nonexistent   \n",
                            "1   may         mon       149         1    999         0  nonexistent   \n",
                            "2   may         mon       226         1    999         0  nonexistent   \n",
                            "3   may         mon       151         1    999         0  nonexistent   \n",
                            "4   may         mon       307         1    999         0  nonexistent   \n",
                            "\n",
                            "   emp.var.rate  cons.price.idx  cons.conf.idx  euribor3m  nr.employed   y  \n",
                            "0           1.1          93.994          -36.4      4.857       5191.0  no  \n",
                            "1           1.1          93.994          -36.4      4.857       5191.0  no  \n",
                            "2           1.1          93.994          -36.4      4.857       5191.0  no  \n",
                            "3           1.1          93.994          -36.4      4.857       5191.0  no  \n",
                            "4           1.1          93.994          -36.4      4.857       5191.0  no  "
                        ]
                    },
                    "execution_count": 14,
                    "metadata": {},
                    "output_type": "execute_result"
                }
            ],
            "source": [
                "# Importamos el archivo e imprimimos las primeras filas del dataframe para tener una visión rápida del conjunto\n",
                "data_bank = pd.read_csv(r\"https://raw.githubusercontent.com/4GeeksAcademy/logistic-regression-project-tutorial/main/bank-marketing-campaign-data.csv\", sep = \";\")\n",
                "\n",
                "# Configuración de pandas para mostrar todas las columnas del DataFrame sin truncarlas al visualizarlo\n",
                "pd.set_option('display.max_columns', None)\n",
                "\n",
                "# Se muestran las 5 primeras filas del Data Frame\n",
                "data_bank.head()"
            ]
        },
        {
            "cell_type": "markdown",
            "metadata": {},
            "source": [
                "- Tras haber cargado el DataFrame debemos ver la cantidad de información que contiene. \n",
                "- Recurrimos al atributo shape:"
            ]
        },
        {
            "cell_type": "code",
            "execution_count": 15,
            "metadata": {},
            "outputs": [
                {
                    "name": "stdout",
                    "output_type": "stream",
                    "text": [
                        " El conjunto de datos cuenta con información de 41188 clientes con un total de 21 datos característicos de cada uno de ellos.\n"
                    ]
                }
            ],
            "source": [
                "print (f\" El conjunto de datos cuenta con información de {data_bank.shape[0]} clientes con un total de {data_bank.shape[1]} datos característicos de cada uno de ellos.\")"
            ]
        },
        {
            "cell_type": "markdown",
            "metadata": {},
            "source": [
                "### Paso 2: Realiza un EDA completo\n",
                "\n",
                "Es fundamental la realización del EDA para poder identificar patrones, detectar valores atípico y poder eliminar las variables que no sean extrictamente necesarias.\n"
            ]
        },
        {
            "cell_type": "code",
            "execution_count": 16,
            "metadata": {},
            "outputs": [
                {
                    "name": "stdout",
                    "output_type": "stream",
                    "text": [
                        "<class 'pandas.core.frame.DataFrame'>\n",
                        "RangeIndex: 41188 entries, 0 to 41187\n",
                        "Data columns (total 21 columns):\n",
                        " #   Column          Non-Null Count  Dtype  \n",
                        "---  ------          --------------  -----  \n",
                        " 0   age             41188 non-null  int64  \n",
                        " 1   job             41188 non-null  object \n",
                        " 2   marital         41188 non-null  object \n",
                        " 3   education       41188 non-null  object \n",
                        " 4   default         41188 non-null  object \n",
                        " 5   housing         41188 non-null  object \n",
                        " 6   loan            41188 non-null  object \n",
                        " 7   contact         41188 non-null  object \n",
                        " 8   month           41188 non-null  object \n",
                        " 9   day_of_week     41188 non-null  object \n",
                        " 10  duration        41188 non-null  int64  \n",
                        " 11  campaign        41188 non-null  int64  \n",
                        " 12  pdays           41188 non-null  int64  \n",
                        " 13  previous        41188 non-null  int64  \n",
                        " 14  poutcome        41188 non-null  object \n",
                        " 15  emp.var.rate    41188 non-null  float64\n",
                        " 16  cons.price.idx  41188 non-null  float64\n",
                        " 17  cons.conf.idx   41188 non-null  float64\n",
                        " 18  euribor3m       41188 non-null  float64\n",
                        " 19  nr.employed     41188 non-null  float64\n",
                        " 20  y               41188 non-null  object \n",
                        "dtypes: float64(5), int64(5), object(11)\n",
                        "memory usage: 6.6+ MB\n"
                    ]
                }
            ],
            "source": [
                "# Resumen conciso del DataFrame:\n",
                "data_bank.info()"
            ]
        },
        {
            "cell_type": "markdown",
            "metadata": {},
            "source": [
                "No existen valores nulos en ninguna de las 21 columnas\n",
                "\n",
                "Existen 10 variable numéricas y 11 variables categóricas."
            ]
        },
        {
            "cell_type": "markdown",
            "metadata": {},
            "source": [
                "### Paso 2.1 - Análisis de Duplicados y Constantes:\n",
                "Uno de los puntos críticos a la hora de realizar un análisis, es la existencia de variables / características comunes a todos los clientes, dado que sería información redundante y no aportaría valor al estudio, es decir, el análisis sería el mismo aunque no estuviesen como variables y, por lo tanto, se podría prescindir de ellas."
            ]
        },
        {
            "cell_type": "code",
            "execution_count": 17,
            "metadata": {},
            "outputs": [
                {
                    "name": "stdout",
                    "output_type": "stream",
                    "text": [
                        " Hay un total de 0 columnas en el Data Frame con un valor constante para todos los clientes.\n",
                        " \n",
                        "Para cada columna del Data Frame, se muestran cuántos valores distintos presentan:\n"
                    ]
                },
                {
                    "data": {
                        "text/plain": [
                            "age                 78\n",
                            "job                 12\n",
                            "marital              4\n",
                            "education            8\n",
                            "default              3\n",
                            "housing              3\n",
                            "loan                 3\n",
                            "contact              2\n",
                            "month               10\n",
                            "day_of_week          5\n",
                            "duration          1544\n",
                            "campaign            42\n",
                            "pdays               27\n",
                            "previous             8\n",
                            "poutcome             3\n",
                            "emp.var.rate        10\n",
                            "cons.price.idx      26\n",
                            "cons.conf.idx       26\n",
                            "euribor3m          316\n",
                            "nr.employed         11\n",
                            "y                    2\n",
                            "dtype: int64"
                        ]
                    },
                    "execution_count": 17,
                    "metadata": {},
                    "output_type": "execute_result"
                }
            ],
            "source": [
                "# Se utiliza el método .nunique() para saber la cantidad de columnas con constantes en el Data Frame:\n",
                "print(f\" Hay un total de {(lambda data_bank: (data_bank.nunique() == 1).sum())(data_bank)} columnas en el Data Frame con un valor constante para todos los clientes.\");\n",
                "\n",
                "# Se imprime el conteo de valores distintos en cada columna:\n",
                "print (f\" \\nPara cada columna del Data Frame, se muestran cuántos valores distintos presentan:\");\n",
                "data_bank.nunique()"
            ]
        },
        {
            "cell_type": "markdown",
            "metadata": {},
            "source": [
                "A partir del resultado obtenido, se puede observar que no hay ninguna constante en los datos cargados, por lo tanto, no hay que eliminar ninguna columna, de momento.\n",
                "\n",
                "-\n",
                "\n",
                "Otro factor determinante a la hora de realizar una limpieza de los datos es detectar si hay datos repetidos, aplicado a este caso, si hay clientes duplicados."
            ]
        },
        {
            "cell_type": "code",
            "execution_count": 20,
            "metadata": {},
            "outputs": [
                {
                    "name": "stdout",
                    "output_type": "stream",
                    "text": [
                        " Hay un total de 0 clientes duplicados.\n"
                    ]
                },
                {
                    "data": {
                        "text/plain": [
                            "(41176, 21)"
                        ]
                    },
                    "execution_count": 20,
                    "metadata": {},
                    "output_type": "execute_result"
                }
            ],
            "source": [
                "# Se utiliza el método .duplicated() para identificar los valores repetidos dentro del DataFrame:\n",
                "print(f\" Hay un total de {data_bank.duplicated().sum()} clientes duplicados.\")\n",
                "\n",
                "# Al existir duplicados los visualizamos:\n",
                "duplicados = data_bank.duplicated(keep=False)\n",
                "filas_duplicadas = data_bank[duplicados]\n",
                "filas_duplicadas\n",
                "\n",
                "# Finalmente eliminamos los duplicados:\n",
                "data_bank = data_bank.drop_duplicates()\n",
                "data_bank.shape"
            ]
        },
        {
            "cell_type": "markdown",
            "metadata": {},
            "source": [
                "### Paso 2.2 - Análisis de Nulos:\n",
                "Uno de los problemas que es habitual encontrarse en el análisis de datos es variables sin valor, nulos.\n",
                "\n",
                "Es por ello que se deben tratar estos casos para o bien eliminarlos o bien rellenarlos con un valor coherente para cada uno.\n",
                "\n",
                "En este caso, como vimos en el inicio del punto 2. No existen valores nulos en ninguna de las 21 columnas"
            ]
        },
        {
            "cell_type": "markdown",
            "metadata": {},
            "source": [
                "### Paso 2.3 - Análisis de Observaciones Influyentes:\n",
                "En este paso se va a proceder a realizar uno de los puntos clave en el Análisis Exploratorio de Datos, la Identificación de Observaciones Influyentes.\n",
                "\n",
                "Sin embargo, para poder realizar este paso, es necesario que todas las variables con las que se trabaja sean numéricas."
            ]
        },
        {
            "cell_type": "code",
            "execution_count": 21,
            "metadata": {},
            "outputs": [],
            "source": [
                "# Convertimos todas las variables categóricas a numéricas\n",
                "\n",
                "data_bank[\"job_n\"] = pd.factorize(data_bank[\"job\"])[0]\n",
                "data_bank[\"marital_n\"] = pd.factorize(data_bank[\"marital\"])[0]\n",
                "data_bank[\"education_n\"] = pd.factorize(data_bank[\"education\"])[0]\n",
                "data_bank[\"default_n\"] = pd.factorize(data_bank[\"default\"])[0]\n",
                "data_bank[\"housing_n\"] = pd.factorize(data_bank[\"housing\"])[0]\n",
                "data_bank[\"loan_n\"] = pd.factorize(data_bank[\"loan\"])[0]\n",
                "data_bank[\"contact_n\"] = pd.factorize(data_bank[\"contact\"])[0]\n",
                "data_bank[\"month_n\"] = pd.factorize(data_bank[\"month\"])[0]\n",
                "data_bank[\"day_of_week_n\"] = pd.factorize(data_bank[\"day_of_week\"])[0]\n",
                "data_bank[\"poutcome_n\"] = pd.factorize(data_bank[\"poutcome\"])[0]\n",
                "data_bank[\"y_n\"] = pd.factorize(data_bank[\"y\"])[0]\n",
                "\n",
                "# Ahora creamos una lista con todas las variable numéricas (incluyendo las variables categóricas que acabamos de transformar)\n",
                "num_variables = [\"job_n\", \"marital_n\", \"education_n\", \"default_n\", \"housing_n\", \"loan_n\", \"contact_n\", \"month_n\", \"day_of_week_n\", \"poutcome_n\",\n",
                "                 \"age\", \"duration\", \"campaign\", \"pdays\", \"previous\", \"emp.var.rate\", \"cons.price.idx\", \"cons.conf.idx\", \"euribor3m\", \"nr.employed\", \"y_n\"]\n",
                "\n",
                "# Escalado de variables numéricas usando Min-Max Escaler. Así nos aseguramos de que todas las variables estén en el mismo rango (0 a 1)\n",
                "scaler = MinMaxScaler()\n",
                "scal_features = scaler.fit_transform(data_bank[num_variables])\n",
                "data_bank_scal = pd.DataFrame(scal_features, index=data_bank.index, columns=num_variables)\n",
                "\n"
            ]
        },
        {
            "cell_type": "markdown",
            "metadata": {},
            "source": [
                "Una vez ya se cuenta con todas las características numéricas, se puede proceder a identificar las observaciones influyentes.\n",
                "\n",
                "Para ello, en primer lugar es necesario identificar cuál será, de ahora en adelante la variable dependiente, es decir, la variable a predecir y separar tanto esta como todas las relacionadas con ella.\n",
                "\n",
                "En este caso consideramos como la variable a predecir: "
            ]
        }
    ],
    "metadata": {
        "kernelspec": {
            "display_name": "Python 3",
            "language": "python",
            "name": "python3"
        },
        "language_info": {
            "codemirror_mode": {
                "name": "ipython",
                "version": 3
            },
            "file_extension": ".py",
            "mimetype": "text/x-python",
            "name": "python",
            "nbconvert_exporter": "python",
            "pygments_lexer": "ipython3",
            "version": "3.10.12"
        },
        "orig_nbformat": 4
    },
    "nbformat": 4,
    "nbformat_minor": 2
}
